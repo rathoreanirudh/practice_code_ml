{
 "cells": [
  {
   "cell_type": "markdown",
   "metadata": {},
   "source": [
    "# Homework 4: SVM\n",
    "\n",
    "\n",
    "This assignment is due on Moodle by **11:59pm on Friday November 8**. \n",
    "Your solutions to theoretical questions should be done in Markdown/MathJax directly below the associated question.\n",
    "Your solutions to computational questions should include any specified Python code and results \n",
    "as well as written commentary on your conclusions.\n",
    "Remember that you are encouraged to discuss the problems with your instructors and classmates, \n",
    "but **you must write all code and solutions on your own**. For a refresher on the course **Collaboration Policy** click [here](https://github.com/BoulderDS/CSCI5622-Machine-Learning/blob/master/info/syllabus.md#collaboration-policy).\n",
    "\n",
    "**NOTES**: \n",
    "\n",
    "- Do **NOT** load or use any Python packages that are not available in Anaconda (Version: 2019.07) with Python 3.7. \n",
    "- Some problems with code may be autograded.  If we provide a function API **do not** change it.  If we do not provide a function API then you're free to structure your code however you like. \n",
    "- Submit only this Jupyter notebook to Moodle.  Do not compress it using tar, rar, zip, etc. \n",
    "- In this homework you will explore the primal and dual representations of support vector machines, as well as the performance of various kernels while classifying sentiments. Install the following packages: `nltk` (Version: 3.4.5), `scikit-learn` (Version: 0.21.3)\n"
   ]
  },
  {
   "cell_type": "markdown",
   "metadata": {},
   "source": [
    "Name: Anirudh Rathore\n",
    "\n",
    "identikey: anra4396"
   ]
  },
  {
   "cell_type": "code",
   "execution_count": 2,
   "metadata": {},
   "outputs": [],
   "source": [
    "import math\n",
    "import pickle\n",
    "import gzip\n",
    "import numpy as np\n",
    "import pandas\n",
    "import matplotlib.pylab as plt\n",
    "%matplotlib inline"
   ]
  },
  {
   "cell_type": "markdown",
   "metadata": {},
   "source": [
    "[40 Points] Problem 1 - Basic concepts of SVM\n",
    "---\n",
    "\n",
    "**Part 1 [10 points]:** \n",
    "* What are the main differences between the primal and the dual representations?\n",
    "* For the variables $\\xi_i$, $C$ in the primal formation, what are their roles? Write out the upper/lower bounds (constraints) of these variables. What are the interpretation for these maximum/minimum values?\n",
    "* For the variable $\\alpha_i$, $\\beta_i$ in the dual formation, what are the upper/lower bound (constraints) of them?"
   ]
  },
  {
   "cell_type": "markdown",
   "metadata": {
    "collapsed": true,
    "deletable": false,
    "nbgrader": {
     "cell_type": "markdown",
     "checksum": "f616bf5ea6cd25ba5b9bbbf94bb465f5",
     "grade": true,
     "grade_id": "cell-f177349aed9aabcf",
     "locked": false,
     "points": 10,
     "schema_version": 3,
     "solution": true
    }
   },
   "source": [
    "YOUR ANSWER HERE\n",
    "\n",
    "* The primal representation is $$\\frac{1}{2}\\min_{w, b, \\xi} ||w^2 || + C\\sum_{i=1}^m\\xi_i$$ such that $$y_i(w.x_i + b) \\geq 1 - \\xi_i, i\\in[1, m]$$ $$\\xi_i \\geq 0, i\\in[1, m]$$ This can be re-written using langragian multiplier $$\\mathscr{L}(w, b, \\xi, \\alpha, \\beta) = \\frac{1}{2}\\min_{w, b, \\xi} ||w^2 || + C\\sum_{i=1}^n\\xi_i - \\sum_{i=1}^m\\alpha_i[y_i(w.x_i + b) - 1 + \\xi_i] - \\sum_{i=1}^m\\beta_i\\xi_i$$\n",
    "\n",
    "Taking the gradients($\\triangledown_w\\mathscr{L}$, $\\triangledown_b\\mathscr{L}$, $\\triangledown_{\\xi_i}\\mathscr{L}$) and solving for zero gives us the following equations $w = \\sum_{i=1}^m\\alpha_iy_ix_i$, $\\sum_{i=1}^m\\alpha_iy_i = 0$, $\\alpha_i + \\beta_i = C$\n",
    "\n",
    "which gives us the dual representations. The key point in this is that dual representations is max-min compared to the min-max in primal. The primal problem also suffers the curse of dimensionality and cannot be solved efficiently, whereas when the number of support vectors are not unlimited, the dual problem can be solved very efficiently.\n",
    "\n",
    "* The variables $\\xi_i, C$ are the slack variable and the tradeoff between slack and margin respectively. The role of $\\xi_i$ is to check how wrong a point is classified in the case of soft margin SVM. The role of C is to dictate how much slack can we live with in our classifier. If the value of C is high, this means that we cannot have a lot of slack in our classifier and it tends towards a hard margin SVM, whereas if the vakue of C is low, this means that we can concentrate on maximizing the margin and allow slack for a couple of points. $$\\xi_i \\geq 0, i\\in[1, m]$$ $$C\\geq \\alpha_i \\geq 0, i\\in[1, m]$$\n",
    "\n",
    "If the value of $\\xi_i$ is zero for a point, that means that the point is not misclassifed but if the value of slack is higher than zero, then it is the degree of how wrong a point is classified, i.e, how far is it from the decision boundary.\n",
    "* $$\\alpha_i \\geq 0, i\\in[1, m]$$\n",
    "$$\\beta_i \\geq 0, i\\in[1, m]$$"
   ]
  },
  {
   "cell_type": "markdown",
   "metadata": {},
   "source": [
    "**Part 2 [20 points]:** \n",
    "\n",
    " * Given a weight vector, implement the `find_support` function that returns the indices of the support vectors.\n",
    " * Given a weight vector, implement the `find_slack` function that returns the indices of the vectors with nonzero slack.\n",
    " * Given the alpha dual vector, implement the `weight_vector` function that returns the corresponding weight vector."
   ]
  },
  {
   "cell_type": "code",
   "execution_count": 64,
   "metadata": {
    "deletable": false,
    "nbgrader": {
     "cell_type": "code",
     "checksum": "95c07ce92336485501945c905ee57cdd",
     "grade": false,
     "grade_id": "cell-14c104d96c00c2eb",
     "locked": false,
     "schema_version": 3,
     "solution": true
    }
   },
   "outputs": [],
   "source": [
    "class SVM:\n",
    "    \n",
    "    def __init__(self):\n",
    "        self.kINSP = np.array([(1, 8, +1),\n",
    "                       (7, 2, -1),\n",
    "                       (6, -1, -1),\n",
    "                       (-5, 0, +1),\n",
    "                       (-5, 1, -1),\n",
    "                       (-5, 2, +1),\n",
    "                       (6, 3, +1),\n",
    "                       (6, 1, -1),\n",
    "                       (5, 2, -1)])\n",
    "        self.kSEP = np.array([(-2, 2, +1),    # 0 - A\n",
    "                      (0, 4, +1),             # 1 - B\n",
    "                      (2, 1, +1),             # 2 - C\n",
    "                      (-2, -3, -1),           # 3 - D\n",
    "                      (0, -1, -1),            # 4 - E\n",
    "                      (2, -3, -1),            # 5 - F\n",
    "                      ])\n",
    "\n",
    "\n",
    "    def weight_vector(self, x, y, alpha):\n",
    "        \"\"\"\n",
    "        Given a vector of alphas, compute the primal weight vector w.\n",
    "        The vector w should be returned as an Numpy array.\n",
    "        \"\"\"\n",
    "\n",
    "        w = np.zeros(len(x[0]))\n",
    "        # YOUR CODE HERE\n",
    "        # BEGIN CODE HERE\n",
    "        for i in range(len(x)):\n",
    "            wt_feature =  []\n",
    "            for j in range(len(x[i])):\n",
    "                tmp = x[i][j]*y[i]*alpha[i]\n",
    "                wt_feature.append(tmp)\n",
    "            wt_feature = np.array(wt_feature)\n",
    "            w = np.add(w, wt_feature)\n",
    "        # END CODE HERE\n",
    "        return w\n",
    "\n",
    "\n",
    "\n",
    "    def find_support(self, x, y, w, b, tolerance=0.001):\n",
    "        \"\"\"\n",
    "        Given a set of training examples and primal weights, return the indices\n",
    "        of all of the support vectors as a set.\n",
    "        \"\"\"\n",
    "\n",
    "        support = set()\n",
    "        # YOUR CODE HERE\n",
    "        # BEGIN CODE HERE\n",
    "        y_hat = np.dot(x, w) + b\n",
    "        for i in range(len(x)):\n",
    "            xx = int(y_hat[i]*y[i])\n",
    "            if xx == 1:\n",
    "                support.add(i)\n",
    "            \n",
    "        # END CODE HERE\n",
    "        \n",
    "        return support\n",
    "\n",
    "\n",
    "\n",
    "    def find_slack(self, x, y, w, b):\n",
    "        \"\"\"\n",
    "        Given a set of training examples and primal weights, return the indices\n",
    "        of all examples with nonzero slack as a set.\n",
    "        \"\"\"\n",
    "\n",
    "        slack = set()\n",
    "        # YOUR CODE HERE\n",
    "        # BEGIN CODE HERE\n",
    "        y_hat = np.dot(x, w) + b\n",
    "        for i in range(len(x)):\n",
    "            xx = y_hat[i]*y[i]\n",
    "            if xx < 1:\n",
    "                slack.add(i)\n",
    "        # END CODE HERE\n",
    "        return slack"
   ]
  },
  {
   "cell_type": "code",
   "execution_count": 65,
   "metadata": {
    "deletable": false,
    "editable": false,
    "nbgrader": {
     "cell_type": "code",
     "checksum": "3aa73cc220bc2b16c09b0e72ebd10dfa",
     "grade": true,
     "grade_id": "cell-3c7d7f432578009e",
     "locked": true,
     "points": 20,
     "schema_version": 3,
     "solution": false
    }
   },
   "outputs": [
    {
     "name": "stderr",
     "output_type": "stream",
     "text": [
      "TestWideSlack (tests.tests.TestSVM) ... ok\n",
      "TestNarrowSlack (tests.tests.TestSVM) ... ok\n",
      "TestSupport (tests.tests.TestSVM) ... ok\n",
      "TestWeight (tests.tests.TestSVM) ... ok\n",
      "\n",
      "----------------------------------------------------------------------\n",
      "Ran 4 tests in 0.006s\n",
      "\n",
      "OK\n"
     ]
    }
   ],
   "source": [
    "from tests import tests\n",
    "tests.run_test_suite(\"prob 1\", SVM)"
   ]
  },
  {
   "cell_type": "markdown",
   "metadata": {},
   "source": [
    "**Part 3 [10 points]:** \n",
    "\n",
    "The goal of this problem is to correctly classify test data points, given a training data set.\n",
    "For this problem, assume that we are training an SVM with a quadratic kernel, which means our kernel function is a polynomial kernel of degree 2. You are given the data set presented in the figure below. The slack penalty $C$ will determine the location of the decision boundary.\n",
    "\n",
    "Justify the following questions in a sentence or via drawing decision boundary.\n",
    "![training_data](./data/data.png)\n",
    "\n",
    "* Where would the decision boundary be for very large values of $C$ ?\n",
    "* Where you would expect the decision boundary to be if  $C = 0$ ?\n",
    "* Which of the two cases above would you expect to generalize better on test data? Why?"
   ]
  },
  {
   "cell_type": "markdown",
   "metadata": {
    "deletable": false,
    "nbgrader": {
     "cell_type": "markdown",
     "checksum": "985db05b9496fb3714ee2096479f6f7d",
     "grade": true,
     "grade_id": "cell-02406ba497be1623",
     "locked": false,
     "points": 10,
     "schema_version": 3,
     "solution": true
    }
   },
   "source": [
    "YOUR ANSWER HERE\n",
    "\n",
    "\n",
    "* The decision boundary for very large values of C will be where it tries to classify all the points correctly. This means that it would try to have a clear demarcation between the two classes. Because as C increases, the slack penalty increases, so for the two red points which we see are closer to the green cluster would have lesser and lesser slack when thje value of C increases and hence, they would play an important role in the decision boundary.\n",
    "\n",
    "* For C=0, the decision boundary would be focused on maximizing the margin and would live with a couple of misclassifications. So, it would be kindof in the middle of the big clusters of data.\n",
    "\n",
    "* I would expect that the C=0 case would generalize better on the test data because when C is larger, it's worried about the misclassifications and would probably overfit on the training data."
   ]
  },
  {
   "cell_type": "markdown",
   "metadata": {},
   "source": [
    "[30 points] Problem 2 - The Kernel Trick\n",
    "---\n",
    "The kernel trick can make SVM powerful and become non-linear. In this problem we will get familiar with the kernel trick.\n",
    "\n",
    "**Part 1 [10 points]:**\n",
    "\n",
    "We will construct a support vector machine that computes the XOR function, using values of +1 and −1 (instead of 1 and 0) for both inputs and outputs, so that an example looks like ($[−1, 1], 1$) or ($[−1, −1], −1$). Map the input $[x_1, x_2]$ into a space consisting of $x_1$ and $x_1x_2$. Plot the four input points in this space, and the maximal margin separator. Give the margin value in the markdown cell. Remeber to indicate which points have output +1 and which -1."
   ]
  },
  {
   "cell_type": "code",
   "execution_count": 66,
   "metadata": {
    "deletable": false,
    "nbgrader": {
     "cell_type": "code",
     "checksum": "e495557a163be3eb33fccc9d445e8de3",
     "grade": false,
     "grade_id": "cell-20ea52b04bb94dee",
     "locked": false,
     "schema_version": 3,
     "solution": true,
     "task": false
    }
   },
   "outputs": [
    {
     "data": {
      "text/plain": [
       "Text(0, 0.5, 'x1x2')"
      ]
     },
     "execution_count": 66,
     "metadata": {},
     "output_type": "execute_result"
    },
    {
     "data": {
      "image/png": "[encoded data removed]",
      "text/plain": [
       "<Figure size 864x432 with 1 Axes>"
      ]
     },
     "metadata": {
      "needs_background": "light"
     },
     "output_type": "display_data"
    }
   ],
   "source": [
    "# YOUR CODE HERE\n",
    "# BEGIN CODE HERE\n",
    "x1 = [-1, -1, 1, 1]\n",
    "x2 = [-1, 1, -1, 1]\n",
    "x1x2 = [1, -1, -1, 1]\n",
    "xor = [-1, 1, 1, -1]\n",
    "\n",
    "fig, ax = plt.subplots(nrows=1, ncols=1, figsize=(12,6))\n",
    "ax.scatter(x1[0], x1x2[0], color=\"red\", label=\" -1\")\n",
    "ax.scatter(x1[3], x1x2[3], color=\"red\", label=\" -1\")\n",
    "ax.scatter(x1[1], x1x2[1], color=\"blue\", label=\" +1\")\n",
    "ax.scatter(x1[2], x1x2[2], color=\"blue\", label=\" +1\")\n",
    "\n",
    "x_mid = [-1, 1]\n",
    "y_mid = [0, 0]\n",
    "\n",
    "ax.plot(x_mid, y_mid, color=\"black\", label=\"decision boundary\")\n",
    "\n",
    "ax.legend(loc=(1.04,0))\n",
    "ax.set_xlabel(\"x1\", fontsize=16)\n",
    "ax.set_ylabel(\"x1x2\", fontsize=16)\n",
    "# END CODE HERE"
   ]
  },
  {
   "cell_type": "markdown",
   "metadata": {
    "deletable": false,
    "nbgrader": {
     "cell_type": "markdown",
     "checksum": "21d15db327a141bbe8d5bf2323358407",
     "grade": true,
     "grade_id": "cell-64bbc4980b5c4edd",
     "locked": false,
     "points": 10,
     "schema_version": 3,
     "solution": true,
     "task": false
    }
   },
   "source": [
    "YOUR ANSWER HERE\n",
    "\n",
    "$x_1x_2 = 0.0$"
   ]
  },
  {
   "cell_type": "markdown",
   "metadata": {},
   "source": [
    "\n",
    "\n",
    "\n",
    "**Part 2 [5 points]:** Plot the separating line of **Part 1** back in the original Euclidean input space."
   ]
  },
  {
   "cell_type": "code",
   "execution_count": 82,
   "metadata": {
    "deletable": false,
    "nbgrader": {
     "cell_type": "code",
     "checksum": "e6e323e18881c3d6be9b1ff2abd3d8ac",
     "grade": true,
     "grade_id": "cell-9020bbe03ed87cfc",
     "locked": false,
     "points": 5,
     "schema_version": 3,
     "solution": true,
     "task": false
    }
   },
   "outputs": [
    {
     "name": "stderr",
     "output_type": "stream",
     "text": [
      "/Users/anirudh/anaconda3/lib/python3.7/site-packages/ipykernel_launcher.py:14: RuntimeWarning: divide by zero encountered in true_divide\n",
      "  \n"
     ]
    },
    {
     "data": {
      "text/plain": [
       "Text(0, 0.5, 'x2')"
      ]
     },
     "execution_count": 82,
     "metadata": {},
     "output_type": "execute_result"
    },
    {
     "data": {
      "image/png": "[encoded data removed]",
      "text/plain": [
       "<Figure size 864x432 with 1 Axes>"
      ]
     },
     "metadata": {
      "needs_background": "light"
     },
     "output_type": "display_data"
    }
   ],
   "source": [
    "# YOUR CODE HERE\n",
    "# BEGIN CODE HERE\n",
    "x1 = [-1, -1, 1, 1]\n",
    "x2 = [-1, 1, -1, 1]\n",
    "xor = [-1, 1, 1, -1]\n",
    "\n",
    "fig, ax = plt.subplots(nrows=1, ncols=1, figsize=(12,6))\n",
    "ax.scatter(x1[0], x2[0], color=\"red\", label=\" -1\")\n",
    "ax.scatter(x1[3], x2[3], color=\"red\", label=\" -1\")\n",
    "ax.scatter(x1[1], x2[1], color=\"blue\", label=\" +1\")\n",
    "ax.scatter(x1[2], x2[2], color=\"blue\", label=\" +1\")\n",
    "\n",
    "def f(x):\n",
    "    return 0.001/x\n",
    "\n",
    "x=np.linspace(-1,1,10001)\n",
    "y=f(x)\n",
    "\n",
    "ax.plot(x, y, color=\"black\", label=\"decision boundary\")\n",
    "\n",
    "ax.legend(loc=(1.04,0))\n",
    "# ax.xaxis.set_ticks(np.arange(-1, 1, 0.25))\n",
    "# ax.yaxis.set_ticks(np.arange(-1, 1, 0.25))1\n",
    "ax.set_ylim([-1.2, 1.2])\n",
    "ax.set_xlabel(\"x1\", fontsize=16)\n",
    "ax.set_ylabel(\"x2\", fontsize=16)\n",
    "# END CODE HERE"
   ]
  },
  {
   "cell_type": "markdown",
   "metadata": {},
   "source": [
    "**Part 3 [5 points]:** Is the seporater in **Part 1** linear? Is the one in **Part 2** linear? Explain your answer."
   ]
  },
  {
   "cell_type": "markdown",
   "metadata": {
    "deletable": false,
    "nbgrader": {
     "cell_type": "markdown",
     "checksum": "8821f5382c580de24c483bd1a0cd4b31",
     "grade": true,
     "grade_id": "cell-119e16472d287f4e",
     "locked": false,
     "points": 5,
     "schema_version": 3,
     "solution": true,
     "task": false
    }
   },
   "source": [
    "YOUR ANSWER HERE\n",
    "\n",
    "The separator in **Part 1** is linear and is non-linear in **Part 2**. Since, we used the kernel trick and made the data linearly separable in **Part 1**, that has a linear decision boundary. But, when we extrapolate the graph back to the euclidean input space. The data is not linearly separable. Hence, the decision boundary has got to be non-linear. "
   ]
  },
  {
   "cell_type": "markdown",
   "metadata": {},
   "source": [
    "**Part 4 [10 points]:**\n",
    "The key point of the so-called “kernel trick” in SVMs is to learn a classifier that effectively separates the training data in a higher dimensional space without having to explicitly compute the representation $\\phi(\\mathbf{x})$ of every point $\\mathbf{x}$ in the original input space. Instead, all the work is done through the kernel function $K(\\mathbf{x}_i, \\mathbf{x}_i)$, for example, we can use $K(\\mathbf{x}_i, \\mathbf{x}_i) = \\phi(\\mathbf{x}_i)\\phi(\\mathbf{x}_j)$.\n",
    "\n",
    "Show how to compute the squared Euclidean distance in the projected space between any two points $\\mathbf{x}_i$, $\\mathbf{x}_j$ in the original space without explicitly computing the $\\phi$ mapping, instead using the kernel function $K$. In other words, derive $d(\\phi(\\mathbf{x}_i), \\phi(\\mathbf{x}_j))$ into a form using only the kernel function."
   ]
  },
  {
   "cell_type": "markdown",
   "metadata": {
    "deletable": false,
    "nbgrader": {
     "cell_type": "markdown",
     "checksum": "3beedd96d39e9c464377ae2885f78ba0",
     "grade": true,
     "grade_id": "cell-c6b6512e7d992202",
     "locked": false,
     "points": 10,
     "schema_version": 3,
     "solution": true,
     "task": false
    }
   },
   "source": [
    "YOUR ANSWER HERE\n",
    "\n",
    "$$d(\\phi(\\mathbf{x}_i), \\phi(\\mathbf{x}_j)) = ||\\phi(\\mathbf{x}_i) - \\phi(\\mathbf{x}_j)||^2$$\n",
    "$$d(\\phi(\\mathbf{x}_i), \\phi(\\mathbf{x}_j)) = |\\phi(\\mathbf{x}_i)||\\phi(\\mathbf{x}_i)| + |\\phi(\\mathbf{x}_j)||\\phi(\\mathbf{x}_j)| - 2|\\phi(\\mathbf{x}_i)||\\phi(\\mathbf{x}_j)|$$\n",
    "\n",
    "If we normalize all the values, we can simply say that $|\\phi(\\mathbf{x}_j)||\\phi(\\mathbf{x}_j)| = 1$ and $|\\phi(\\mathbf{x}_i)||\\phi(\\mathbf{x}_i)| = 1$\n",
    "$$d(\\phi(\\mathbf{x}_i), \\phi(\\mathbf{x}_j)) = 1 + 1 - 2|\\phi(\\mathbf{x}_i)||\\phi(\\mathbf{x}_j)|$$\n",
    "$$d(\\phi(\\mathbf{x}_i), \\phi(\\mathbf{x}_j)) = 2(1 - |\\phi(\\mathbf{x}_i)||\\phi(\\mathbf{x}_j)|)$$\n",
    "$$d(\\phi(\\mathbf{x}_i), \\phi(\\mathbf{x}_j)) = 2(1 - K(\\mathbf{x}_i, \\mathbf{x}_j))$$"
   ]
  },
  {
   "cell_type": "markdown",
   "metadata": {},
   "source": [
    "[30 points] Problem 3 - SVM with `sklearn`\n",
    "---\n",
    "\n",
    "In this problem, you will get familiar with important practical functions in scikit-learn such as pipeline, grid search, and cross validation. You will experiment with these using support vector machines.\n",
    "\n",
    "Note that grid search can take some time on your laptop, so make sure that your code is correct with a small subset of the training data and search a reasonable number of options.\n",
    "\n",
    "* Use the Sklearn implementation of support vector machines to train a classifier to distinguish Positive and negative sentiments\n",
    "* Experiment with linear, polynomial, and RBF kernels. First, perform a GridSearch over each kernel function and a small set of parameters defined over a wide range to help narrow down the search space.\n",
    "* Then choose the best performing kernel from your coarse scale search and define a narrower set of parameters for random search to further optimize the hyperparameters. Comment on the experiments you ran and optimal hyperparameters you found.\n",
    "Hint: http://scikit-learn.org/stable/modules/grid_search.html\n",
    "* Evaluate classification performance for each model for optimal parameters by testing on a hold-out set.\n",
    "\n",
    "Following is a dataset containing reviews and sentiments associated with it.\n",
    "\n",
    "We will create a SVM Classifier to predict positive or negative sentiments."
   ]
  },
  {
   "cell_type": "code",
   "execution_count": 68,
   "metadata": {},
   "outputs": [],
   "source": [
    "import pandas as pd\n",
    "from sklearn.model_selection import train_test_split, StratifiedKFold\n",
    "reviews  = pd.read_csv('./data/reviews.csv')\n",
    "train, test = train_test_split(reviews, test_size=0.2, random_state=5622)\n",
    "X_train = train['reviews']\n",
    "X_test = test['reviews']\n",
    "y_train = train['sentiment']\n",
    "y_test = test['sentiment']"
   ]
  },
  {
   "cell_type": "code",
   "execution_count": 69,
   "metadata": {},
   "outputs": [
    {
     "name": "stdout",
     "output_type": "stream",
     "text": [
      "4000 1995 1000 505\n",
      "4000 1000\n"
     ]
    }
   ],
   "source": [
    "print(len(X_train),sum(y_train),len(X_test),sum(y_test))\n",
    "print(len(y_train), len(y_test))"
   ]
  },
  {
   "cell_type": "code",
   "execution_count": 70,
   "metadata": {},
   "outputs": [
    {
     "name": "stdout",
     "output_type": "stream",
     "text": [
      "832 667\n"
     ]
    }
   ],
   "source": [
    "print(len(X_train[0]), len(X_train[1]))"
   ]
  },
  {
   "cell_type": "code",
   "execution_count": 71,
   "metadata": {},
   "outputs": [],
   "source": [
    "import nltk\n",
    "from nltk.corpus import stopwords\n",
    "from nltk.tokenize import TweetTokenizer\n",
    "from sklearn.feature_extraction.text import CountVectorizer\n",
    "from sklearn.svm import SVC\n",
    "from sklearn.pipeline import make_pipeline, Pipeline\n",
    "from sklearn.model_selection import GridSearchCV, RandomizedSearchCV\n",
    "from sklearn.metrics import accuracy_score, f1_score\n",
    "from sklearn.metrics import confusion_matrix, roc_auc_score, recall_score, precision_score"
   ]
  },
  {
   "cell_type": "markdown",
   "metadata": {},
   "source": [
    "**Part 1 [5 points]:**\n",
    "\n",
    "Use `CountVectorizer` to vectorize reviews as dictionary of term frequencies.\n",
    "Define the crossvalidation split using `StratifiedKFold`."
   ]
  },
  {
   "cell_type": "code",
   "execution_count": 72,
   "metadata": {
    "deletable": false,
    "nbgrader": {
     "cell_type": "code",
     "checksum": "ff5c05e229aacfb20ead9cab47a30752",
     "grade": true,
     "grade_id": "cell-ab58d371c35713b4",
     "locked": false,
     "points": 5,
     "schema_version": 3,
     "solution": true
    }
   },
   "outputs": [
    {
     "name": "stderr",
     "output_type": "stream",
     "text": [
      "[nltk_data] Downloading package stopwords to\n",
      "[nltk_data]     /Users/anirudh/nltk_data...\n",
      "[nltk_data]   Package stopwords is already up-to-date!\n"
     ]
    },
    {
     "name": "stdout",
     "output_type": "stream",
     "text": [
      "StratifiedKFold(n_splits=5, random_state=None, shuffle=True)\n"
     ]
    }
   ],
   "source": [
    "def tokenize(text): \n",
    "    tknzr = TweetTokenizer()\n",
    "    return tknzr.tokenize(text)\n",
    "\n",
    "nltk.download('stopwords')\n",
    "en_stopwords = set(stopwords.words(\"english\")) \n",
    "\n",
    "# CREATE CountVectorizer using sklearn.feature_extraction.text.CountVectorizer\n",
    "# Hint: use the above tokenize function\n",
    "# Hint: play with different parameters, in particular, min_df can help with generalizability\n",
    "# YOUR CODE HERE\n",
    "# BEGIN CODE HERE\n",
    "\n",
    "# corpus = []\n",
    "# for idx, row in X_train.iteritems():\n",
    "#     corpus_i = tokenize(X_train[idx])\n",
    "#     corpus += corpus_i\n",
    "# corpus = set(corpus)\n",
    "\n",
    "\n",
    "vectorizer = CountVectorizer(max_df=1.0, min_df=1, stop_words=en_stopwords, tokenizer=tokenize)\n",
    "X_train_tokenized = vectorizer.fit_transform(X_train)\n",
    "# print(vectorizer.get_feature_names())\n",
    "# END CODE HERE\n",
    "\n",
    "# split dataset using StratifiedKFold into 5 splits using sklearn.model_selection.StratifiedKFold.\n",
    "# YOUR CODE HERE\n",
    "# BEGIN CODE HERE\n",
    "kfolds = StratifiedKFold(n_splits=5, shuffle=True)\n",
    "kfolds.get_n_splits(X_train, y_train)\n",
    "print(kfolds)\n",
    "# END CODE HERE"
   ]
  },
  {
   "cell_type": "markdown",
   "metadata": {},
   "source": [
    "**Part 2 [10 points]:**\n",
    "* Create a pipeline with our `CountVectorizer` object in **Part 1** and an SVM Classifier.\n",
    "* Create and fit a `GridSearchCV` object with the following parameter values:\n",
    "  * Linear kernel, $C = 0.01, 1.0, 10.0$\n",
    "  * Polynomial kernel, $\\text{degree} = 2, 3$, $\\gamma = 0.1, 0.5, 1$\n",
    "  * RBF kernel, $\\gamma = 0.1, 0.5, 1$\n",
    "* Report accuracy on the best estimator from our `GridSearchCV` object."
   ]
  },
  {
   "cell_type": "code",
   "execution_count": 63,
   "metadata": {
    "deletable": false,
    "nbgrader": {
     "cell_type": "code",
     "checksum": "88d870b8bb537716016ae1577d22d90b",
     "grade": true,
     "grade_id": "cell-a3dd5b25a9ce8feb",
     "locked": false,
     "points": 5,
     "schema_version": 3,
     "solution": true
    }
   },
   "outputs": [
    {
     "name": "stdout",
     "output_type": "stream",
     "text": [
      "Fitting 5 folds for each of 12 candidates, totalling 60 fits\n"
     ]
    },
    {
     "name": "stderr",
     "output_type": "stream",
     "text": [
      "[Parallel(n_jobs=1)]: Using backend SequentialBackend with 1 concurrent workers.\n",
      "[Parallel(n_jobs=1)]: Done  60 out of  60 | elapsed:  8.9min finished\n"
     ]
    }
   ],
   "source": [
    "np.random.seed(5622)\n",
    "# Define pipeline using make_pipeline with vectorizer and SVM Classifier\n",
    "# YOUR CODE HERE\n",
    "# BEGIN CODE HERE\n",
    "svm_clf = SVC()\n",
    "pipeline_svm = Pipeline(steps=[('vect', vectorizer), ('model', svm_clf)])\n",
    "\n",
    "parameters = [\n",
    "  {'model__C': [0.01, 1.0, 10.0], 'model__kernel': ['linear']},\n",
    "  {'model__gamma': [0.1, 0.5, 1], 'model__kernel': ['poly'], 'model__degree': [2, 3]},\n",
    "  {'model__gamma': [0.1, 0.5, 1], 'model__kernel': ['rbf']},\n",
    "  \n",
    " ]\n",
    "# END CODE HERE\n",
    "\n",
    "# Create GridSearchCV with pipeline and the grid search parameters given above,\n",
    "# using \"accuracy\" for scoring.\n",
    "\n",
    "# YOUR CODE HERE\n",
    "\n",
    "# BEGIN CODE HERE\n",
    "grid_svm = GridSearchCV(pipeline_svm, param_grid=parameters, cv=kfolds, scoring=\"accuracy\", verbose=1)\n",
    "# END CODE HERE\n",
    "\n",
    "\n",
    "# For debugging purposes, it makes sense to use a smaller set of training set to speed up the grid search progress\n",
    "_ = grid_svm.fit(X_train, y_train)"
   ]
  },
  {
   "cell_type": "code",
   "execution_count": 59,
   "metadata": {
    "deletable": false,
    "nbgrader": {
     "cell_type": "code",
     "checksum": "089068689cee53bba013581b01e8c6cc",
     "grade": true,
     "grade_id": "cell-47833f7ec14a9d22",
     "locked": false,
     "points": 5,
     "schema_version": 3,
     "solution": true,
     "task": false
    }
   },
   "outputs": [
    {
     "name": "stdout",
     "output_type": "stream",
     "text": [
      "{'model__C': 0.01, 'model__kernel': 'linear'}\n",
      "0.87925\n"
     ]
    }
   ],
   "source": [
    "# Report best parameters and CV score from grid search\n",
    "# YOUR CODE HERE\n",
    "# BEGIN CODE HERE\n",
    "print(grid_svm.best_params_)\n",
    "print(grid_svm.best_score_)\n",
    "\n",
    "# END CODE HERE"
   ]
  },
  {
   "cell_type": "markdown",
   "metadata": {},
   "source": [
    "**Part 3 [10 points]:**\n",
    "\n",
    "Choose the best performing kernel and parameter values from your coarse scale grid search and use them to set up a narrower range of parameter values. We will use randomized grid search to sample a fixed number of these candidate parameter sets for cross validation. The number of sampled parameter sets `n_iter` provides a trade-off between computational cost and quality of the \"optimal\" parameters. Feel free to experiment with different values of this parameter, but please change it back to `n_iter = 5` before submitting your assignment."
   ]
  },
  {
   "cell_type": "code",
   "execution_count": 92,
   "metadata": {
    "deletable": false,
    "nbgrader": {
     "cell_type": "code",
     "checksum": "59e134fffac3e070713e01dd8de977f6",
     "grade": true,
     "grade_id": "cell-e1116a343a3e645a",
     "locked": false,
     "points": 5,
     "schema_version": 3,
     "solution": true,
     "task": false
    }
   },
   "outputs": [
    {
     "name": "stdout",
     "output_type": "stream",
     "text": [
      "Fitting 5 folds for each of 5 candidates, totalling 25 fits\n"
     ]
    },
    {
     "name": "stderr",
     "output_type": "stream",
     "text": [
      "[Parallel(n_jobs=-1)]: Using backend LokyBackend with 8 concurrent workers.\n",
      "[Parallel(n_jobs=-1)]: Done  25 out of  25 | elapsed:   48.5s finished\n"
     ]
    }
   ],
   "source": [
    "# Set random seed for deterministic output\n",
    "np.random.seed(5622)\n",
    "\n",
    "# Set param_grid to a dictionary containing parameter values for fine scale search.\n",
    "# YOUR CODE HERE\n",
    "param_grid = {\n",
    "  'model__C': [0.008, 0.009, 0.0095, 0.01, 0.02, 0.03, 0.04], 'model__kernel': ['linear']\n",
    "}\n",
    "\n",
    "# Create randomized parameter search over fine scale grid;\n",
    "# Do NOT change the value of n_iter in the submitted version of your notebook.\n",
    "n_iter = 5\n",
    "random_svm = RandomizedSearchCV(pipeline_svm,\n",
    "                                param_grid,\n",
    "                                n_iter=n_iter,\n",
    "                                cv = kfolds,\n",
    "                                scoring=\"accuracy\",\n",
    "                                verbose=1,   \n",
    "                                n_jobs=-1)\n",
    "\n",
    "_ = random_svm.fit(X_train, y_train)"
   ]
  },
  {
   "cell_type": "code",
   "execution_count": 93,
   "metadata": {
    "deletable": false,
    "nbgrader": {
     "cell_type": "code",
     "checksum": "4b5d5fa7e1321d87c5eef4b928afaf25",
     "grade": true,
     "grade_id": "cell-39b5a8b9e508cf0e",
     "locked": false,
     "points": 5,
     "schema_version": 3,
     "solution": true,
     "task": false
    }
   },
   "outputs": [
    {
     "name": "stdout",
     "output_type": "stream",
     "text": [
      "{'model__kernel': 'linear', 'model__C': 0.009}\n",
      "0.879\n"
     ]
    }
   ],
   "source": [
    "# Report best parameters and CV score from grid search\n",
    "# YOUR CODE HERE\n",
    "print(random_svm.best_params_)\n",
    "print(random_svm.best_score_)"
   ]
  },
  {
   "cell_type": "code",
   "execution_count": 94,
   "metadata": {},
   "outputs": [],
   "source": [
    "def report_results(model, X, y):\n",
    "    pred = model.predict(X)        \n",
    "    acc = accuracy_score(y, pred)\n",
    "    f1 = f1_score(y, pred)\n",
    "    prec = precision_score(y, pred)\n",
    "    rec = recall_score(y, pred)\n",
    "    result = {'f1': f1, 'acc': acc, 'precision': prec, 'recall': rec}\n",
    "    return result"
   ]
  },
  {
   "cell_type": "code",
   "execution_count": 95,
   "metadata": {},
   "outputs": [
    {
     "data": {
      "text/plain": [
       "{'f1': 0.8792934249263985,\n",
       " 'acc': 0.877,\n",
       " 'precision': 0.8715953307392996,\n",
       " 'recall': 0.8871287128712871}"
      ]
     },
     "execution_count": 95,
     "metadata": {},
     "output_type": "execute_result"
    }
   ],
   "source": [
    "report_results(random_svm.best_estimator_, X_test, y_test)"
   ]
  },
  {
   "cell_type": "markdown",
   "metadata": {},
   "source": [
    "**Part 4 [5 points]:**\n",
    "\n",
    "Explain the overall procedure, and report the final result including which hyperparameter values were chosen. Make sure to explain your reasoning in choosing a refined parameter search space in **Part 3**."
   ]
  },
  {
   "cell_type": "markdown",
   "metadata": {
    "deletable": false,
    "nbgrader": {
     "cell_type": "markdown",
     "checksum": "651d32596f089e5e6a6cc978c6f79cd6",
     "grade": true,
     "grade_id": "cell-6fecb92ed6ad5abe",
     "locked": false,
     "points": 5,
     "schema_version": 3,
     "solution": true
    }
   },
   "source": [
    "YOUR ANSWER HERE\n",
    "\n",
    "* We use the count vectorizer to tokenize the text data and to represent that as a sparse matrix.\n",
    "* Then, we create a pipeline for the vectorizer and a svm classifier with a parameter grid to do a grid search.\n",
    "* The point of the pipeline is to automate the vectorization of the textual data.\n",
    "* In the grid Search, we try out all the different parameters for an SVM, like the value of C, the kernel type, gamma value. We could do the paramter search for the vectorizer as well. Setting different max_dif and min_dif values.\n",
    "* The linear kernel with C = 0.1 performs the best among the parameters specified. So, for the narrower search, we can omit all the other kernels and the values of C which didn't give a better value."
   ]
  },
  {
   "cell_type": "markdown",
   "metadata": {},
   "source": [
    "### Optional survey.\n",
    "***\n",
    "\n",
    "We are always interested in your feedback. At the end of each homework, there is a simple anonymous feedback [survey](https://forms.gle/bEaNM6G2qFRKhU4Z9) to solicit your feedback for how to improve the course."
   ]
  },
  {
   "cell_type": "code",
   "execution_count": null,
   "metadata": {},
   "outputs": [],
   "source": []
  }
 ],
 "metadata": {
  "kernelspec": {
   "display_name": "Python 3",
   "language": "python",
   "name": "python3"
  },
  "language_info": {
   "codemirror_mode": {
    "name": "ipython",
    "version": 3
   },
   "file_extension": ".py",
   "mimetype": "text/x-python",
   "name": "python",
   "nbconvert_exporter": "python",
   "pygments_lexer": "ipython3",
   "version": "3.7.3"
  }
 },
 "nbformat": 4,
 "nbformat_minor": 2
}
